{
 "cells": [
  {
   "cell_type": "code",
   "execution_count": 29,
   "metadata": {},
   "outputs": [],
   "source": [
    "import cv2 as cv\n",
    "import numpy as np\n",
    "from IPython.display import Image,display\n",
    "import os\n",
    "from matplotlib import pyplot as plt"
   ]
  },
  {
   "cell_type": "code",
   "execution_count": 66,
   "metadata": {},
   "outputs": [],
   "source": [
    "def houghCircle(imgPath):\n",
    "    print(imgPath)\n",
    "    img=cv.imread(imgPath)\n",
    "    imgRGB=cv.cvtColor(img,cv.COLOR_BGR2RGB)\n",
    "    imgGray=cv.cvtColor(img,cv.COLOR_BGR2GRAY)\n",
    "    imgBlur=cv.medianBlur(imgGray,21)\n",
    "    circles=cv.HoughCircles(imgBlur,cv.HOUGH_GRADIENT,dp=1,minDist=10,param1=100,param2=30, minRadius=0,maxRadius=100)\n",
    "    circles=np.uint16(np.around(circles))\n",
    "    \n",
    "    for i in circles[0, :]:\n",
    "        center = (i[0], i[1])\n",
    "        radius = i[2]\n",
    "        cv.circle(imgRGB, center, radius, (255, 0, 255), 10)\n",
    "    resized = cv.resize(imgRGB,(600,800),interpolation=cv.INTER_AREA)\n",
    "    cv.imshow(\"img\",resized)\n",
    "    cv.waitKey(0)\n",
    "    # plt.imshow(imgRGB)\n",
    "    # plt.axis('off')\n",
    "    # plt.show()\n",
    "    \n",
    "    "
   ]
  },
  {
   "cell_type": "code",
   "execution_count": 67,
   "metadata": {},
   "outputs": [
    {
     "name": "stdout",
     "output_type": "stream",
     "text": [
      "D:\\College\\Sem 5\\Package\\ML\\Circles\\Mywork\\train\\images\\24.jpeg\n"
     ]
    }
   ],
   "source": [
    "houghCircle(\"D:\\College\\\\Sem 5\\\\Package\\ML\\Circles\\Mywork\\\\train\\images\\\\24.jpeg\")"
   ]
  }
 ],
 "metadata": {
  "kernelspec": {
   "display_name": "Python 3",
   "language": "python",
   "name": "python3"
  },
  "language_info": {
   "codemirror_mode": {
    "name": "ipython",
    "version": 3
   },
   "file_extension": ".py",
   "mimetype": "text/x-python",
   "name": "python",
   "nbconvert_exporter": "python",
   "pygments_lexer": "ipython3",
   "version": "3.11.3"
  }
 },
 "nbformat": 4,
 "nbformat_minor": 2
}
